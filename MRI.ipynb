{
 "cells": [
  {
   "cell_type": "code",
   "execution_count": 1,
   "metadata": {},
   "outputs": [
    {
     "name": "stderr",
     "output_type": "stream",
     "text": [
      "Using TensorFlow backend.\n"
     ]
    }
   ],
   "source": [
    "import cv2\n",
    "import matplotlib.pyplot as plt\n",
    "import os\n",
    "import seaborn as sns\n",
    "import umap\n",
    "from PIL import Image\n",
    "from scipy import misc\n",
    "from os import listdir\n",
    "from os.path import isfile, join\n",
    "import numpy as np\n",
    "from scipy import misc\n",
    "from random import shuffle\n",
    "from collections import Counter\n",
    "import matplotlib.pyplot as plt\n",
    "from sklearn.decomposition import PCA\n",
    "from sklearn.manifold import TSNE\n",
    "import tensorflow as tf\n",
    "from keras.models import Sequential\n",
    "from keras.layers import Conv2D, MaxPooling2D\n",
    "from keras.layers import Activation, Dropout, Flatten, Dense\n",
    "from keras.utils.np_utils import to_categorical"
   ]
  },
  {
   "cell_type": "code",
   "execution_count": null,
   "metadata": {},
   "outputs": [],
   "source": [
    "#pip install tensorflow==2 \n",
    "#pip install keras\n",
    "#pip install --user tensorflow"
   ]
  },
  {
   "cell_type": "code",
   "execution_count": 2,
   "metadata": {},
   "outputs": [
    {
     "data": {
      "text/plain": [
       "['New folder', 'NO', 'TEST2', 'TRAIN', 'VAL', 'yes']"
      ]
     },
     "execution_count": 2,
     "metadata": {},
     "output_type": "execute_result"
    }
   ],
   "source": [
    "os.listdir('E:/brain_detection/brain_tumor_dataset/TEST')\n"
   ]
  },
  {
   "cell_type": "code",
   "execution_count": 3,
   "metadata": {},
   "outputs": [
    {
     "data": {
      "image/png": "[encoded data removed]",
      "text/plain": [
       "<PIL.Image.Image image mode=L size=128x128 at 0x1D5E742EA88>"
      ]
     },
     "execution_count": 3,
     "metadata": {},
     "output_type": "execute_result"
    }
   ],
   "source": [
    "im =Image.open('E:/brain_detection/brain_tumor_dataset/TEST/no/1 no.jpeg').resize((128,128))\n",
    "im"
   ]
  },
  {
   "cell_type": "code",
   "execution_count": 4,
   "metadata": {},
   "outputs": [
    {
     "data": {
      "image/png": "[encoded data removed]",
      "text/plain": [
       "<PIL.Image.Image image mode=L size=128x128 at 0x1D5D66F60C8>"
      ]
     },
     "execution_count": 4,
     "metadata": {},
     "output_type": "execute_result"
    }
   ],
   "source": [
    "im =Image.open('E:/brain_detection/brain_tumor_dataset/TEST/no/1 no.jpeg').resize((128,128))\n",
    "im"
   ]
  },
  {
   "cell_type": "code",
   "execution_count": 5,
   "metadata": {},
   "outputs": [],
   "source": [
    "yes=os.listdir('E:/brain_detection/brain_tumor_dataset/TEST/yes')\n",
    "no=os.listdir('E:/brain_detection/brain_tumor_dataset/TEST/no')"
   ]
  },
  {
   "cell_type": "code",
   "execution_count": 6,
   "metadata": {},
   "outputs": [
    {
     "data": {
      "text/plain": [
       "True"
      ]
     },
     "execution_count": 6,
     "metadata": {},
     "output_type": "execute_result"
    }
   ],
   "source": [
    "data=np.concatenate([yes,no])\n",
    "len(data)==len(yes)+len(no)"
   ]
  },
  {
   "cell_type": "code",
   "execution_count": 7,
   "metadata": {},
   "outputs": [
    {
     "data": {
      "text/plain": [
       "True"
      ]
     },
     "execution_count": 7,
     "metadata": {},
     "output_type": "execute_result"
    }
   ],
   "source": [
    "target_x=np.full(len(yes),1)\n",
    "target_y=np.full(len(no),0)\n",
    "data_target=np.concatenate([target_x,target_y])\n",
    "len(data_target)==len(target_x)+len(target_y)"
   ]
  },
  {
   "cell_type": "code",
   "execution_count": 8,
   "metadata": {},
   "outputs": [
    {
     "data": {
      "text/plain": [
       "True"
      ]
     },
     "execution_count": 8,
     "metadata": {},
     "output_type": "execute_result"
    }
   ],
   "source": [
    "len(data_target)==len(data)\n"
   ]
  },
  {
   "cell_type": "code",
   "execution_count": 9,
   "metadata": {},
   "outputs": [
    {
     "data": {
      "text/plain": [
       "array([1, 1, 1, 1, 1, 1, 1, 1, 1, 1, 1, 1, 1, 1, 1, 1, 1, 1, 1, 1, 1, 1,\n",
       "       1, 1, 1, 1, 1, 1, 1, 1, 1, 1, 1, 1, 1, 1, 1, 1, 1, 1, 1, 1, 1, 1,\n",
       "       1, 1, 1, 1, 1, 1, 1, 1, 1, 1, 1, 1, 1, 1, 1, 1, 1, 1, 1, 1, 1, 1,\n",
       "       1, 1, 1, 1, 1, 1, 1, 1, 1, 1, 1, 1, 1, 1, 1, 1, 1, 1, 1, 1, 1, 1,\n",
       "       1, 1, 1, 1, 1, 1, 1, 1, 1, 1, 1, 1, 1, 1, 1, 1, 1, 1, 1, 1, 1, 1,\n",
       "       1, 1, 1, 1, 1, 1, 1, 1, 1, 1, 1, 1, 1, 1, 1, 1, 1, 1, 1, 1, 1, 1,\n",
       "       1, 1, 1, 1, 1, 1, 1, 1, 1, 1, 1, 1, 1, 1, 1, 1, 1, 1, 1, 1, 1, 1,\n",
       "       1, 0, 0, 0, 0, 0, 0, 0, 0, 0, 0, 0, 0, 0, 0, 0, 0, 0, 0, 0, 0, 0,\n",
       "       0, 0, 0, 0, 0, 0, 0, 0, 0, 0, 0, 0, 0, 0, 0, 0, 0, 0, 0, 0, 0, 0,\n",
       "       0, 0, 0, 0, 0, 0, 0, 0, 0, 0, 0, 0, 0, 0, 0, 0, 0, 0, 0, 0, 0, 0,\n",
       "       0, 0, 0, 0, 0, 0, 0, 0, 0, 0, 0, 0, 0, 0, 0, 0, 0, 0, 0, 0, 0, 0,\n",
       "       0, 0, 0, 0, 0, 0, 0, 0, 0, 0, 0])"
      ]
     },
     "execution_count": 9,
     "metadata": {},
     "output_type": "execute_result"
    }
   ],
   "source": [
    "data_target\n"
   ]
  },
  {
   "cell_type": "code",
   "execution_count": 10,
   "metadata": {},
   "outputs": [
    {
     "data": {
      "text/plain": [
       "array(['Y1.jpg', 'Y10.jpg', 'Y100.JPG', 'Y101.jpg', 'Y102.jpg',\n",
       "       'Y103.jpg', 'Y104.jpg', 'Y105.jpg', 'Y106.jpg', 'Y107.jpg',\n",
       "       'Y108.jpg', 'Y109.JPG', 'Y11.jpg', 'Y111.JPG', 'Y112.JPG',\n",
       "       'Y113.JPG', 'Y114.JPG', 'Y115.JPG', 'Y116.JPG', 'Y117.JPG',\n",
       "       'Y12.jpg', 'Y120.JPG', 'Y13.jpg', 'Y14.jpg', 'Y146.JPG',\n",
       "       'Y147.JPG', 'Y148.JPG', 'Y15.jpg', 'Y153.jpg', 'Y154.jpg',\n",
       "       'Y155.JPG', 'Y156.JPG', 'Y157.JPG', 'Y158.JPG', 'Y159.JPG',\n",
       "       'Y16.JPG', 'Y160.JPG', 'Y161.JPG', 'Y162.jpg', 'Y163.JPG',\n",
       "       'Y164.JPG', 'Y165.JPG', 'Y166.JPG', 'Y167.JPG', 'Y168.jpg',\n",
       "       'Y169.jpg', 'Y17.jpg', 'Y170.JPG', 'Y18.JPG', 'Y180.jpg',\n",
       "       'Y181.jpg', 'Y182.JPG', 'Y183.jpg', 'Y184.JPG', 'Y185.jpg',\n",
       "       'Y186.jpg', 'Y187.jpg', 'Y188.jpg', 'Y19.JPG', 'Y192.JPG',\n",
       "       'Y193.JPG', 'Y194.jpg', 'Y195.JPG', 'Y2.jpg', 'Y20.jpg', 'Y21.jpg',\n",
       "       'Y22.jpg', 'Y23.JPG', 'Y24.jpg', 'Y242.JPG', 'Y243.JPG',\n",
       "       'Y244.JPG', 'Y245.jpg', 'Y246.JPG', 'Y247.JPG', 'Y248.JPG',\n",
       "       'Y249.JPG', 'Y25.jpg', 'Y250.jpg', 'Y251.JPG', 'Y252.jpg',\n",
       "       'Y253.JPG', 'Y254.jpg', 'Y255.JPG', 'Y256.JPG', 'Y257.jpg',\n",
       "       'Y258.JPG', 'Y259.JPG', 'Y26.jpg', 'Y27.jpg', 'Y28.jpg', 'Y29.jpg',\n",
       "       'Y3.jpg', 'Y30.jpg', 'Y31.jpg', 'Y32.jpg', 'Y33.jpg', 'Y34.jpg',\n",
       "       'Y35.jpg', 'Y36.JPG', 'Y37.jpg', 'Y38.jpg', 'Y39.jpg', 'Y4.jpg',\n",
       "       'Y40.JPG', 'Y41.jpg', 'Y42.jpg', 'Y44.JPG', 'Y45.JPG', 'Y46.jpg',\n",
       "       'Y47.JPG', 'Y49.JPG', 'Y50.JPG', 'Y51.jpg', 'Y52.jpg', 'Y53.jpg',\n",
       "       'Y54.jpg', 'Y55.jpg', 'Y56.jpg', 'Y58.JPG', 'Y59.JPG', 'Y6.jpg',\n",
       "       'Y60.jpg', 'Y61.jpg', 'Y62.jpg', 'Y65.JPG', 'Y66.JPG', 'Y67.JPG',\n",
       "       'Y69.jpg', 'Y7.jpg', 'Y70.jpg', 'Y71.JPG', 'Y73.jpg', 'Y74.jpg',\n",
       "       'Y75.JPG', 'Y76.jpg', 'Y77.jpg', 'Y78.jpg', 'Y79.jpg', 'Y8.jpg',\n",
       "       'Y81.jpg', 'Y82.jpg', 'Y85.JPG', 'Y86.JPG', 'Y89.JPG', 'Y9.jpg',\n",
       "       'Y90.jpg', 'Y91.jpg', 'Y92.jpg', 'Y92.png', 'Y95.jpg', 'Y96.jpg',\n",
       "       'Y97.JPG', 'Y98.JPG', 'Y99.JPG', '1 no.jpeg', '10 no.jpg',\n",
       "       '11 no.jpg', '12 no.jpg', '13 no.jpg', '14 no.jpg', '15 no.jpg',\n",
       "       '17 no.jpg', '18 no.jpg', '19 no.jpg', '2 no.jpeg', '20 no.jpg',\n",
       "       '21 no.jpg', '22 no.jpg', '23 no.jpg', '24 no.jpg', '25 no.jpg',\n",
       "       '26 no.jpg', '27 no.jpg', '28 no.jpg', '29 no.jpg', '3 no.jpg',\n",
       "       '30 no.jpg', '31 no.jpg', '32 no.jpg', '33 no.jpg', '34 no.jpg',\n",
       "       '35 no.jpg', '36 no.jpg', '37 no.jpg', '38 no.jpg', '39 no.jpg',\n",
       "       '4 no.jpg', '40 no.jpg', '41 no.jpg', '42 no.jpg', '43 no.jpg',\n",
       "       '44no.jpg', '45 no.jpg', '46 no.jpg', '47 no.jpg', '48 no.jpeg',\n",
       "       '49 no.jpg', '5 no.jpg', '50 no.jpg', '6 no.jpg', '7 no.jpg',\n",
       "       '8 no.jpg', '9 no.jpg', 'N1.JPG', 'N11.jpg', 'N15.jpg', 'N16.jpg',\n",
       "       'N17.jpg', 'N19.JPG', 'N2.JPG', 'N20.JPG', 'N21.jpg', 'N22.JPG',\n",
       "       'N26.JPG', 'N3.jpg', 'N5.jpg', 'N6.jpg', 'no 1.jpg', 'no 10.jpg',\n",
       "       'no 100.jpg', 'no 2.jpg', 'no 3.jpg', 'no 4.jpg', 'no 5.jpeg',\n",
       "       'no 6.jpg', 'no 7.jpeg', 'no 8.jpg', 'no 89.jpg', 'no 9.png',\n",
       "       'no 90.jpg', 'no 91.jpeg', 'no 92.jpg', 'no 923.jpg', 'no 94.jpg',\n",
       "       'no 95.jpg', 'no 96.jpg', 'no 97.jpg', 'no 98.jpg', 'no 99.jpg',\n",
       "       'no.jpg', 'No11.jpg', 'No12.jpg', 'No13.jpg', 'No14.jpg',\n",
       "       'No15.jpg', 'No16.jpg', 'No17.jpg', 'No18.jpg', 'No19.jpg',\n",
       "       'No20.jpg', 'No21.jpg', 'No22.jpg'], dtype='<U10')"
      ]
     },
     "execution_count": 10,
     "metadata": {},
     "output_type": "execute_result"
    }
   ],
   "source": [
    "data\n"
   ]
  },
  {
   "cell_type": "code",
   "execution_count": 11,
   "metadata": {},
   "outputs": [],
   "source": [
    "yes_values=os.listdir('E:/brain_detection/brain_tumor_dataset/TEST/yes')\n",
    "no_values=os.listdir('E:/brain_detection/brain_tumor_dataset/TEST/no')"
   ]
  },
  {
   "cell_type": "code",
   "execution_count": 12,
   "metadata": {},
   "outputs": [],
   "source": [
    "X_data =[]\n",
    "for file in yes_values:\n",
    "    #face = misc.imread('../input/brain_tumor_dataset/yes/'+file)\n",
    "    img = cv2.imread('E:/brain_detection/brain_tumor_dataset/TEST/yes/'+file)\n",
    "    face = cv2.resize(img, (32, 32) )\n",
    "    (b, g, r)=cv2.split(face) \n",
    "    img=cv2.merge([r,g,b])\n",
    "    X_data.append(img)"
   ]
  },
  {
   "cell_type": "code",
   "execution_count": 13,
   "metadata": {},
   "outputs": [],
   "source": [
    "for file in no_values:\n",
    "    #face = misc.imread('../input/brain_tumor_dataset/yes/'+file)\n",
    "    img = cv2.imread('E:/brain_detection/brain_tumor_dataset/TEST/no/'+file)\n",
    "    face = cv2.resize(img, (32, 32) )\n",
    "    (b, g, r)=cv2.split(face) \n",
    "    img=cv2.merge([r,g,b])\n",
    "    X_data.append(img)"
   ]
  },
  {
   "cell_type": "code",
   "execution_count": 14,
   "metadata": {},
   "outputs": [
    {
     "data": {
      "text/plain": [
       "True"
      ]
     },
     "execution_count": 14,
     "metadata": {},
     "output_type": "execute_result"
    }
   ],
   "source": [
    "len(X_data)==len(data)==len(data_target)\n"
   ]
  },
  {
   "cell_type": "code",
   "execution_count": 15,
   "metadata": {},
   "outputs": [],
   "source": [
    "X = np.squeeze(X_data)\n"
   ]
  },
  {
   "cell_type": "code",
   "execution_count": 16,
   "metadata": {},
   "outputs": [
    {
     "data": {
      "text/plain": [
       "(253, 32, 32, 3)"
      ]
     },
     "execution_count": 16,
     "metadata": {},
     "output_type": "execute_result"
    }
   ],
   "source": [
    "X.shape\n"
   ]
  },
  {
   "cell_type": "code",
   "execution_count": 17,
   "metadata": {},
   "outputs": [],
   "source": [
    "# normalize data\n",
    "X = X.astype('float32')\n",
    "X /= 255"
   ]
  },
  {
   "cell_type": "code",
   "execution_count": 18,
   "metadata": {},
   "outputs": [
    {
     "data": {
      "text/plain": [
       "array([1, 1, 1, 1, 1, 1, 1, 1, 1, 1, 1, 1, 1, 1, 1, 1, 1, 1, 1, 1, 1, 1,\n",
       "       1, 1, 1, 1, 1, 1, 1, 1, 1, 1, 1, 1, 1, 1, 1, 1, 1, 1, 1, 1, 1, 1,\n",
       "       1, 1, 1, 1, 1, 1, 1, 1, 1, 1, 1, 1, 1, 1, 1, 1, 1, 1, 1, 1, 1, 1,\n",
       "       1, 1, 1, 1, 1, 1, 1, 1, 1, 1, 1, 1, 1, 1, 1, 1, 1, 1, 1, 1, 1, 1,\n",
       "       1, 1, 1, 1, 1, 1, 1, 1, 1, 1, 1, 1, 1, 1, 1, 1, 1, 1, 1, 1, 1, 1,\n",
       "       1, 1, 1, 1, 1, 1, 1, 1, 1, 1, 1, 1, 1, 1, 1, 1, 1, 1, 1, 1, 1, 1,\n",
       "       1, 1, 1, 1, 1, 1, 1, 1, 1, 1, 1, 1, 1, 1, 1, 1, 1, 1, 1, 1, 1, 1,\n",
       "       1, 0, 0, 0, 0, 0, 0, 0, 0, 0, 0, 0, 0, 0, 0, 0, 0, 0, 0, 0, 0, 0,\n",
       "       0, 0, 0, 0, 0, 0, 0, 0, 0, 0, 0, 0, 0, 0, 0, 0, 0, 0, 0, 0, 0, 0,\n",
       "       0, 0, 0, 0, 0, 0, 0, 0, 0, 0, 0, 0, 0, 0, 0, 0, 0, 0, 0, 0, 0, 0,\n",
       "       0, 0, 0, 0, 0, 0, 0, 0, 0, 0, 0, 0, 0, 0, 0, 0, 0, 0, 0, 0, 0, 0,\n",
       "       0, 0, 0, 0, 0, 0, 0, 0, 0, 0, 0])"
      ]
     },
     "execution_count": 18,
     "metadata": {},
     "output_type": "execute_result"
    }
   ],
   "source": [
    "#categorical_labels = to_categorical(data_target, num_classes=2)\n",
    "data_target\n"
   ]
  },
  {
   "cell_type": "code",
   "execution_count": 19,
   "metadata": {},
   "outputs": [],
   "source": [
    "(x_train, y_train), (x_test, y_test) = (X[:190],data_target[:190]) , (X[190:] , data_target[190:])\n",
    "(x_valid , y_valid) = (x_test[:63], y_test[:63])\n",
    "#(x_test, y_test) = (x_test[63:], y_test[63:])"
   ]
  },
  {
   "cell_type": "code",
   "execution_count": 20,
   "metadata": {},
   "outputs": [
    {
     "name": "stdout",
     "output_type": "stream",
     "text": [
      "Model: \"sequential\"\n",
      "_________________________________________________________________\n",
      "Layer (type)                 Output Shape              Param #   \n",
      "=================================================================\n",
      "conv2d (Conv2D)              (None, 32, 32, 16)        3904      \n",
      "_________________________________________________________________\n",
      "max_pooling2d (MaxPooling2D) (None, 16, 16, 16)        0         \n",
      "_________________________________________________________________\n",
      "dropout (Dropout)            (None, 16, 16, 16)        0         \n",
      "_________________________________________________________________\n",
      "conv2d_1 (Conv2D)            (None, 16, 16, 16)        20752     \n",
      "_________________________________________________________________\n",
      "max_pooling2d_1 (MaxPooling2 (None, 8, 8, 16)          0         \n",
      "_________________________________________________________________\n",
      "dropout_1 (Dropout)          (None, 8, 8, 16)          0         \n",
      "_________________________________________________________________\n",
      "conv2d_2 (Conv2D)            (None, 8, 8, 36)          46692     \n",
      "_________________________________________________________________\n",
      "max_pooling2d_2 (MaxPooling2 (None, 4, 4, 36)          0         \n",
      "_________________________________________________________________\n",
      "dropout_2 (Dropout)          (None, 4, 4, 36)          0         \n",
      "_________________________________________________________________\n",
      "flatten (Flatten)            (None, 576)               0         \n",
      "_________________________________________________________________\n",
      "dense (Dense)                (None, 512)               295424    \n",
      "_________________________________________________________________\n",
      "dropout_3 (Dropout)          (None, 512)               0         \n",
      "_________________________________________________________________\n",
      "dense_1 (Dense)              (None, 1)                 513       \n",
      "=================================================================\n",
      "Total params: 367,285\n",
      "Trainable params: 367,285\n",
      "Non-trainable params: 0\n",
      "_________________________________________________________________\n"
     ]
    }
   ],
   "source": [
    "model = tf.keras.Sequential()\n",
    "\n",
    "# Must define the input shape in the first layer of the neural network\n",
    "model.add(tf.keras.layers.Conv2D(filters=16,kernel_size=9, padding='same', activation='relu', input_shape=(32,32,3))) \n",
    "model.add(tf.keras.layers.MaxPooling2D(pool_size=2))\n",
    "model.add(tf.keras.layers.Dropout(0.45))\n",
    "\n",
    "model.add(tf.keras.layers.Conv2D(filters=16,kernel_size=9,padding='same', activation='relu'))\n",
    "model.add(tf.keras.layers.MaxPooling2D(pool_size=2))\n",
    "model.add(tf.keras.layers.Dropout(0.25))\n",
    "\n",
    "model.add(tf.keras.layers.Conv2D(filters=36, kernel_size=9, padding='same', activation='relu'))\n",
    "model.add(tf.keras.layers.MaxPooling2D(pool_size=2))\n",
    "model.add(tf.keras.layers.Dropout(0.25))\n",
    "\n",
    "model.add(tf.keras.layers.Flatten())\n",
    "\n",
    "model.add(tf.keras.layers.Dense(512, activation='relu'))\n",
    "model.add(tf.keras.layers.Dropout(0.15))\n",
    "\n",
    "\n",
    "model.add(tf.keras.layers.Dense(1, activation='sigmoid'))\n",
    "\n",
    "# Take a look at the model summary\n",
    "model.summary()"
   ]
  },
  {
   "cell_type": "code",
   "execution_count": 21,
   "metadata": {},
   "outputs": [],
   "source": [
    "model.compile(loss='binary_crossentropy',\n",
    "             optimizer=tf.keras.optimizers.Adam(),\n",
    "             metrics=['acc'])"
   ]
  },
  {
   "cell_type": "code",
   "execution_count": 23,
   "metadata": {},
   "outputs": [
    {
     "ename": "NameError",
     "evalue": "name 'train_generator' is not defined",
     "output_type": "error",
     "traceback": [
      "\u001b[1;31m---------------------------------------------------------------------------\u001b[0m",
      "\u001b[1;31mNameError\u001b[0m                                 Traceback (most recent call last)",
      "\u001b[1;32m<ipython-input-23-feb4336f2b2f>\u001b[0m in \u001b[0;36m<module>\u001b[1;34m\u001b[0m\n\u001b[0;32m      9\u001b[0m \u001b[1;33m\u001b[0m\u001b[0m\n\u001b[0;32m     10\u001b[0m history = model.fit_generator(\n\u001b[1;32m---> 11\u001b[1;33m     \u001b[0mtrain_generator\u001b[0m\u001b[1;33m,\u001b[0m\u001b[1;33m\u001b[0m\u001b[1;33m\u001b[0m\u001b[0m\n\u001b[0m\u001b[0;32m     12\u001b[0m     \u001b[0msteps_per_epoch\u001b[0m\u001b[1;33m=\u001b[0m\u001b[1;36m50\u001b[0m\u001b[1;33m,\u001b[0m\u001b[1;33m\u001b[0m\u001b[1;33m\u001b[0m\u001b[0m\n\u001b[0;32m     13\u001b[0m     \u001b[0mepochs\u001b[0m\u001b[1;33m=\u001b[0m\u001b[0mEPOCHS\u001b[0m\u001b[1;33m,\u001b[0m\u001b[1;33m\u001b[0m\u001b[1;33m\u001b[0m\u001b[0m\n",
      "\u001b[1;31mNameError\u001b[0m: name 'train_generator' is not defined"
     ]
    }
   ],
   "source": [
    "from keras.callbacks import EarlyStopping\n",
    "\n",
    "EPOCHS = 30\n",
    "es = EarlyStopping(\n",
    "    monitor='val_acc', \n",
    "    mode='max',\n",
    "    patience=6\n",
    ")\n",
    "\n",
    "history = model.fit_generator(\n",
    "    train_generator,\n",
    "    steps_per_epoch=50,\n",
    "    epochs=EPOCHS,\n",
    "    validation_data=validation_generator,\n",
    "    validation_steps=25,\n",
    "    callbacks=[es]\n",
    ")"
   ]
  },
  {
   "cell_type": "code",
   "execution_count": null,
   "metadata": {},
   "outputs": [],
   "source": []
  },
  {
   "cell_type": "code",
   "execution_count": null,
   "metadata": {},
   "outputs": [],
   "source": []
  },
  {
   "cell_type": "code",
   "execution_count": 24,
   "metadata": {},
   "outputs": [
    {
     "name": "stdout",
     "output_type": "stream",
     "text": [
      "Train on 190 samples, validate on 63 samples\n",
      "Epoch 1/150\n",
      "190/190 [==============================] - 3s 13ms/sample - loss: 0.5914 - acc: 0.7947 - val_loss: 1.0482 - val_acc: 0.0000e+00\n",
      "Epoch 2/150\n",
      "190/190 [==============================] - 1s 6ms/sample - loss: 0.4627 - acc: 0.8158 - val_loss: 0.9559 - val_acc: 0.0000e+00\n",
      "Epoch 3/150\n",
      "190/190 [==============================] - 1s 6ms/sample - loss: 0.4667 - acc: 0.8158 - val_loss: 1.1117 - val_acc: 0.0000e+00\n",
      "Epoch 4/150\n",
      "190/190 [==============================] - 1s 5ms/sample - loss: 0.4513 - acc: 0.8158 - val_loss: 1.2571 - val_acc: 0.0000e+00\n",
      "Epoch 5/150\n",
      "190/190 [==============================] - 1s 6ms/sample - loss: 0.4644 - acc: 0.8158 - val_loss: 1.1076 - val_acc: 0.0000e+00\n",
      "Epoch 6/150\n",
      "190/190 [==============================] - 1s 6ms/sample - loss: 0.4425 - acc: 0.8158 - val_loss: 1.0483 - val_acc: 0.0000e+00\n",
      "Epoch 7/150\n",
      "190/190 [==============================] - 1s 6ms/sample - loss: 0.4450 - acc: 0.8158 - val_loss: 1.0273 - val_acc: 0.0000e+00\n",
      "Epoch 8/150\n",
      "190/190 [==============================] - 1s 6ms/sample - loss: 0.4543 - acc: 0.8158 - val_loss: 1.0422 - val_acc: 0.0000e+00\n",
      "Epoch 9/150\n",
      "190/190 [==============================] - 1s 6ms/sample - loss: 0.4456 - acc: 0.8158 - val_loss: 0.9609 - val_acc: 0.0000e+00\n",
      "Epoch 10/150\n",
      "190/190 [==============================] - 1s 6ms/sample - loss: 0.4498 - acc: 0.8158 - val_loss: 0.9619 - val_acc: 0.0000e+00\n",
      "Epoch 11/150\n",
      "190/190 [==============================] - 1s 6ms/sample - loss: 0.4381 - acc: 0.8158 - val_loss: 1.1693 - val_acc: 0.0000e+00\n",
      "Epoch 12/150\n",
      "190/190 [==============================] - 1s 5ms/sample - loss: 0.4453 - acc: 0.8158 - val_loss: 1.1427 - val_acc: 0.0000e+00\n",
      "Epoch 13/150\n",
      "190/190 [==============================] - 1s 6ms/sample - loss: 0.4314 - acc: 0.8158 - val_loss: 0.9697 - val_acc: 0.0000e+00\n",
      "Epoch 14/150\n",
      "190/190 [==============================] - 1s 6ms/sample - loss: 0.4335 - acc: 0.8158 - val_loss: 0.9314 - val_acc: 0.0000e+00\n",
      "Epoch 15/150\n",
      "190/190 [==============================] - 1s 6ms/sample - loss: 0.4320 - acc: 0.8158 - val_loss: 0.9907 - val_acc: 0.0000e+00\n",
      "Epoch 16/150\n",
      "190/190 [==============================] - 1s 6ms/sample - loss: 0.4184 - acc: 0.8158 - val_loss: 1.0366 - val_acc: 0.0000e+00\n",
      "Epoch 17/150\n",
      "190/190 [==============================] - 1s 6ms/sample - loss: 0.4304 - acc: 0.8158 - val_loss: 0.9298 - val_acc: 0.0952\n",
      "Epoch 18/150\n",
      "190/190 [==============================] - 1s 6ms/sample - loss: 0.4336 - acc: 0.8158 - val_loss: 0.8614 - val_acc: 0.1429\n",
      "Epoch 19/150\n",
      "190/190 [==============================] - 1s 6ms/sample - loss: 0.4241 - acc: 0.8211 - val_loss: 1.0975 - val_acc: 0.1111\n",
      "Epoch 20/150\n",
      "190/190 [==============================] - 1s 6ms/sample - loss: 0.4239 - acc: 0.8158 - val_loss: 1.2143 - val_acc: 0.1111\n",
      "Epoch 21/150\n",
      "190/190 [==============================] - 1s 6ms/sample - loss: 0.4011 - acc: 0.8211 - val_loss: 0.9606 - val_acc: 0.1746\n",
      "Epoch 22/150\n",
      "190/190 [==============================] - 1s 6ms/sample - loss: 0.4115 - acc: 0.8316 - val_loss: 0.9044 - val_acc: 0.2381\n",
      "Epoch 23/150\n",
      "190/190 [==============================] - 1s 6ms/sample - loss: 0.4258 - acc: 0.8474 - val_loss: 1.0251 - val_acc: 0.1746\n",
      "Epoch 24/150\n",
      "190/190 [==============================] - 1s 6ms/sample - loss: 0.3915 - acc: 0.8526 - val_loss: 1.2434 - val_acc: 0.1429\n",
      "Epoch 25/150\n",
      "190/190 [==============================] - 1s 6ms/sample - loss: 0.4023 - acc: 0.8316 - val_loss: 1.2553 - val_acc: 0.1587\n",
      "Epoch 26/150\n",
      "190/190 [==============================] - 1s 6ms/sample - loss: 0.3680 - acc: 0.8368 - val_loss: 1.1490 - val_acc: 0.1746\n",
      "Epoch 27/150\n",
      "190/190 [==============================] - 1s 6ms/sample - loss: 0.3841 - acc: 0.8421 - val_loss: 1.0671 - val_acc: 0.2857\n",
      "Epoch 28/150\n",
      "190/190 [==============================] - 1s 6ms/sample - loss: 0.3994 - acc: 0.8421 - val_loss: 1.1123 - val_acc: 0.3333\n",
      "Epoch 29/150\n",
      "190/190 [==============================] - 1s 6ms/sample - loss: 0.3712 - acc: 0.8526 - val_loss: 1.1886 - val_acc: 0.3333\n",
      "Epoch 30/150\n",
      "190/190 [==============================] - 1s 6ms/sample - loss: 0.3670 - acc: 0.8368 - val_loss: 1.2982 - val_acc: 0.3333\n",
      "Epoch 31/150\n",
      "190/190 [==============================] - 1s 6ms/sample - loss: 0.3630 - acc: 0.8474 - val_loss: 1.1652 - val_acc: 0.4444\n",
      "Epoch 32/150\n",
      "190/190 [==============================] - 1s 6ms/sample - loss: 0.3719 - acc: 0.8368 - val_loss: 1.0968 - val_acc: 0.4603\n",
      "Epoch 33/150\n",
      "190/190 [==============================] - 1s 6ms/sample - loss: 0.3728 - acc: 0.8368 - val_loss: 1.1492 - val_acc: 0.4127\n",
      "Epoch 34/150\n",
      "190/190 [==============================] - 1s 6ms/sample - loss: 0.3475 - acc: 0.8737 - val_loss: 1.0767 - val_acc: 0.4127\n",
      "Epoch 35/150\n",
      "190/190 [==============================] - 1s 6ms/sample - loss: 0.3496 - acc: 0.8632 - val_loss: 1.1533 - val_acc: 0.3651\n",
      "Epoch 36/150\n",
      "190/190 [==============================] - 1s 6ms/sample - loss: 0.3443 - acc: 0.8684 - val_loss: 1.1811 - val_acc: 0.4127\n",
      "Epoch 37/150\n",
      "190/190 [==============================] - 1s 6ms/sample - loss: 0.3507 - acc: 0.8579 - val_loss: 1.1449 - val_acc: 0.4603\n",
      "Epoch 38/150\n",
      "190/190 [==============================] - 1s 6ms/sample - loss: 0.3234 - acc: 0.8632 - val_loss: 1.1354 - val_acc: 0.4603\n",
      "Epoch 39/150\n",
      "190/190 [==============================] - 1s 5ms/sample - loss: 0.3206 - acc: 0.8684 - val_loss: 1.1463 - val_acc: 0.4603\n",
      "Epoch 40/150\n",
      "190/190 [==============================] - 1s 5ms/sample - loss: 0.3306 - acc: 0.8526 - val_loss: 1.1546 - val_acc: 0.4603\n",
      "Epoch 41/150\n",
      "190/190 [==============================] - 1s 5ms/sample - loss: 0.3247 - acc: 0.8737 - val_loss: 1.1394 - val_acc: 0.4603\n",
      "Epoch 42/150\n",
      "190/190 [==============================] - 1s 5ms/sample - loss: 0.3106 - acc: 0.8842 - val_loss: 1.1915 - val_acc: 0.3810\n",
      "Epoch 43/150\n",
      "190/190 [==============================] - 1s 6ms/sample - loss: 0.3067 - acc: 0.8684 - val_loss: 1.0841 - val_acc: 0.4127\n",
      "Epoch 44/150\n",
      "190/190 [==============================] - 1s 6ms/sample - loss: 0.2948 - acc: 0.8789 - val_loss: 1.1473 - val_acc: 0.4603\n",
      "Epoch 45/150\n",
      "190/190 [==============================] - 1s 5ms/sample - loss: 0.2959 - acc: 0.9053 - val_loss: 1.2654 - val_acc: 0.4762\n",
      "Epoch 46/150\n",
      "190/190 [==============================] - 1s 5ms/sample - loss: 0.2827 - acc: 0.9000 - val_loss: 1.0779 - val_acc: 0.5714\n",
      "Epoch 47/150\n",
      "190/190 [==============================] - 1s 6ms/sample - loss: 0.2901 - acc: 0.8684 - val_loss: 1.0440 - val_acc: 0.5873\n",
      "Epoch 48/150\n",
      "190/190 [==============================] - 1s 5ms/sample - loss: 0.2616 - acc: 0.9000 - val_loss: 0.9787 - val_acc: 0.6190\n",
      "Epoch 49/150\n",
      "190/190 [==============================] - 1s 5ms/sample - loss: 0.2689 - acc: 0.8895 - val_loss: 1.5383 - val_acc: 0.3651\n",
      "Epoch 50/150\n",
      "190/190 [==============================] - 1s 5ms/sample - loss: 0.2937 - acc: 0.8684 - val_loss: 0.9596 - val_acc: 0.6825\n",
      "Epoch 51/150\n",
      "190/190 [==============================] - 1s 5ms/sample - loss: 0.2525 - acc: 0.9105 - val_loss: 1.5679 - val_acc: 0.3810\n",
      "Epoch 52/150\n",
      "190/190 [==============================] - 1s 6ms/sample - loss: 0.2850 - acc: 0.8737 - val_loss: 1.2159 - val_acc: 0.5397\n",
      "Epoch 53/150\n",
      "190/190 [==============================] - 1s 5ms/sample - loss: 0.2487 - acc: 0.9053 - val_loss: 0.9234 - val_acc: 0.6984\n",
      "Epoch 54/150\n",
      "190/190 [==============================] - 1s 5ms/sample - loss: 0.2888 - acc: 0.9158 - val_loss: 1.6520 - val_acc: 0.3968\n",
      "Epoch 55/150\n",
      "190/190 [==============================] - 1s 5ms/sample - loss: 0.2438 - acc: 0.8947 - val_loss: 1.3218 - val_acc: 0.5079\n",
      "Epoch 56/150\n",
      "190/190 [==============================] - 1s 5ms/sample - loss: 0.2355 - acc: 0.9105 - val_loss: 1.0318 - val_acc: 0.6825\n",
      "Epoch 57/150\n",
      "190/190 [==============================] - 1s 6ms/sample - loss: 0.2226 - acc: 0.9158 - val_loss: 1.5228 - val_acc: 0.4286\n",
      "Epoch 58/150\n",
      "190/190 [==============================] - 1s 5ms/sample - loss: 0.2224 - acc: 0.9158 - val_loss: 1.3766 - val_acc: 0.5873\n",
      "Epoch 59/150\n",
      "190/190 [==============================] - 1s 5ms/sample - loss: 0.2002 - acc: 0.9105 - val_loss: 1.1799 - val_acc: 0.6825\n",
      "Epoch 60/150\n",
      "190/190 [==============================] - 1s 5ms/sample - loss: 0.1914 - acc: 0.9211 - val_loss: 1.3499 - val_acc: 0.6825\n",
      "Epoch 61/150\n",
      "190/190 [==============================] - 1s 6ms/sample - loss: 0.1750 - acc: 0.9316 - val_loss: 1.7072 - val_acc: 0.5556\n",
      "Epoch 62/150\n",
      "190/190 [==============================] - 1s 5ms/sample - loss: 0.1901 - acc: 0.9158 - val_loss: 1.2034 - val_acc: 0.6984\n",
      "Epoch 63/150\n",
      "190/190 [==============================] - 1s 5ms/sample - loss: 0.1982 - acc: 0.9421 - val_loss: 1.2051 - val_acc: 0.6984\n",
      "Epoch 64/150\n",
      "190/190 [==============================] - 1s 5ms/sample - loss: 0.1878 - acc: 0.9368 - val_loss: 1.9611 - val_acc: 0.4921\n",
      "Epoch 65/150\n",
      "190/190 [==============================] - 1s 5ms/sample - loss: 0.2069 - acc: 0.9053 - val_loss: 1.2710 - val_acc: 0.6984\n",
      "Epoch 66/150\n",
      "190/190 [==============================] - 1s 5ms/sample - loss: 0.1368 - acc: 0.9579 - val_loss: 1.5634 - val_acc: 0.6190\n",
      "Epoch 67/150\n",
      "190/190 [==============================] - 1s 6ms/sample - loss: 0.1444 - acc: 0.9474 - val_loss: 1.9140 - val_acc: 0.4444\n",
      "Epoch 68/150\n",
      "190/190 [==============================] - 1s 5ms/sample - loss: 0.1753 - acc: 0.9158 - val_loss: 1.3286 - val_acc: 0.7143\n",
      "Epoch 69/150\n",
      "190/190 [==============================] - 1s 6ms/sample - loss: 0.1229 - acc: 0.9737 - val_loss: 1.2846 - val_acc: 0.7302\n",
      "Epoch 70/150\n",
      "190/190 [==============================] - 1s 6ms/sample - loss: 0.1312 - acc: 0.9526 - val_loss: 1.8785 - val_acc: 0.6190\n",
      "Epoch 71/150\n",
      "190/190 [==============================] - 1s 6ms/sample - loss: 0.1332 - acc: 0.9526 - val_loss: 1.6097 - val_acc: 0.6984\n",
      "Epoch 72/150\n",
      "190/190 [==============================] - 1s 5ms/sample - loss: 0.1221 - acc: 0.9526 - val_loss: 1.5891 - val_acc: 0.6984\n",
      "Epoch 73/150\n",
      "190/190 [==============================] - 1s 5ms/sample - loss: 0.1189 - acc: 0.9579 - val_loss: 2.2382 - val_acc: 0.6032\n",
      "Epoch 74/150\n",
      "190/190 [==============================] - 1s 5ms/sample - loss: 0.1658 - acc: 0.9368 - val_loss: 1.3863 - val_acc: 0.7143\n",
      "Epoch 75/150\n",
      "190/190 [==============================] - 1s 6ms/sample - loss: 0.1314 - acc: 0.9579 - val_loss: 1.3289 - val_acc: 0.7302\n",
      "Epoch 76/150\n",
      "190/190 [==============================] - 1s 6ms/sample - loss: 0.0975 - acc: 0.9737 - val_loss: 1.8717 - val_acc: 0.6190\n",
      "Epoch 77/150\n",
      "190/190 [==============================] - 1s 6ms/sample - loss: 0.1062 - acc: 0.9579 - val_loss: 1.5809 - val_acc: 0.6984\n",
      "Epoch 78/150\n",
      "190/190 [==============================] - 1s 7ms/sample - loss: 0.0728 - acc: 0.9789 - val_loss: 1.2946 - val_acc: 0.7302\n",
      "Epoch 79/150\n",
      "190/190 [==============================] - 1s 6ms/sample - loss: 0.1105 - acc: 0.9632 - val_loss: 1.5013 - val_acc: 0.7143\n",
      "Epoch 80/150\n",
      "190/190 [==============================] - 1s 6ms/sample - loss: 0.0986 - acc: 0.9526 - val_loss: 1.6264 - val_acc: 0.6825\n",
      "Epoch 81/150\n",
      "190/190 [==============================] - 1s 6ms/sample - loss: 0.0867 - acc: 0.9684 - val_loss: 1.3491 - val_acc: 0.7460\n",
      "Epoch 82/150\n",
      "190/190 [==============================] - 1s 6ms/sample - loss: 0.0860 - acc: 0.9737 - val_loss: 1.6011 - val_acc: 0.6825\n",
      "Epoch 83/150\n",
      "190/190 [==============================] - 1s 6ms/sample - loss: 0.0781 - acc: 0.9684 - val_loss: 1.5698 - val_acc: 0.6984\n",
      "Epoch 84/150\n",
      "190/190 [==============================] - 1s 6ms/sample - loss: 0.0485 - acc: 0.9842 - val_loss: 1.4884 - val_acc: 0.6984\n",
      "Epoch 85/150\n",
      "190/190 [==============================] - 1s 6ms/sample - loss: 0.0639 - acc: 0.9842 - val_loss: 1.6822 - val_acc: 0.6825\n",
      "Epoch 86/150\n",
      "190/190 [==============================] - 1s 6ms/sample - loss: 0.0803 - acc: 0.9789 - val_loss: 1.2967 - val_acc: 0.7302\n",
      "Epoch 87/150\n",
      "190/190 [==============================] - 1s 6ms/sample - loss: 0.1084 - acc: 0.9632 - val_loss: 1.9807 - val_acc: 0.6825\n",
      "Epoch 88/150\n",
      "190/190 [==============================] - 1s 6ms/sample - loss: 0.0764 - acc: 0.9684 - val_loss: 2.2811 - val_acc: 0.6667\n",
      "Epoch 89/150\n",
      "190/190 [==============================] - 1s 7ms/sample - loss: 0.0666 - acc: 0.9579 - val_loss: 1.6616 - val_acc: 0.7302\n",
      "Epoch 90/150\n",
      "190/190 [==============================] - 1s 6ms/sample - loss: 0.0576 - acc: 0.9789 - val_loss: 1.8071 - val_acc: 0.7302\n",
      "Epoch 91/150\n",
      "190/190 [==============================] - 1s 5ms/sample - loss: 0.0800 - acc: 0.9737 - val_loss: 2.3197 - val_acc: 0.6508\n",
      "Epoch 92/150\n",
      "190/190 [==============================] - 1s 6ms/sample - loss: 0.0684 - acc: 0.9579 - val_loss: 1.7531 - val_acc: 0.7302\n",
      "Epoch 93/150\n",
      "190/190 [==============================] - 1s 6ms/sample - loss: 0.0520 - acc: 0.9895 - val_loss: 1.8369 - val_acc: 0.7302\n",
      "Epoch 94/150\n",
      "190/190 [==============================] - 1s 6ms/sample - loss: 0.0545 - acc: 0.9789 - val_loss: 2.2947 - val_acc: 0.6667\n",
      "Epoch 95/150\n",
      "190/190 [==============================] - 1s 6ms/sample - loss: 0.0638 - acc: 0.9737 - val_loss: 2.1745 - val_acc: 0.6825\n",
      "Epoch 96/150\n",
      "190/190 [==============================] - 1s 5ms/sample - loss: 0.0326 - acc: 0.9947 - val_loss: 2.0149 - val_acc: 0.7302\n",
      "Epoch 97/150\n",
      "190/190 [==============================] - 1s 5ms/sample - loss: 0.0400 - acc: 0.9842 - val_loss: 1.9471 - val_acc: 0.7302\n",
      "Epoch 98/150\n",
      "190/190 [==============================] - 1s 6ms/sample - loss: 0.0640 - acc: 0.9842 - val_loss: 2.2323 - val_acc: 0.7143\n",
      "Epoch 99/150\n",
      "190/190 [==============================] - 1s 6ms/sample - loss: 0.0769 - acc: 0.9737 - val_loss: 2.2458 - val_acc: 0.7302\n",
      "Epoch 100/150\n",
      "190/190 [==============================] - 1s 5ms/sample - loss: 0.0565 - acc: 0.9789 - val_loss: 2.1042 - val_acc: 0.7143\n",
      "Epoch 101/150\n",
      "190/190 [==============================] - 1s 5ms/sample - loss: 0.0291 - acc: 0.9947 - val_loss: 2.1526 - val_acc: 0.6984\n",
      "Epoch 102/150\n",
      "190/190 [==============================] - 1s 6ms/sample - loss: 0.0498 - acc: 0.9789 - val_loss: 1.8521 - val_acc: 0.7143\n",
      "Epoch 103/150\n",
      "190/190 [==============================] - 1s 6ms/sample - loss: 0.0594 - acc: 0.9789 - val_loss: 1.9324 - val_acc: 0.7143\n",
      "Epoch 104/150\n",
      "190/190 [==============================] - 1s 6ms/sample - loss: 0.0495 - acc: 0.9895 - val_loss: 2.4615 - val_acc: 0.6825\n",
      "Epoch 105/150\n",
      "190/190 [==============================] - 1s 5ms/sample - loss: 0.0374 - acc: 0.9895 - val_loss: 2.2952 - val_acc: 0.7143\n",
      "Epoch 106/150\n",
      "190/190 [==============================] - 1s 5ms/sample - loss: 0.0567 - acc: 0.9684 - val_loss: 1.9735 - val_acc: 0.7460\n",
      "Epoch 107/150\n",
      "190/190 [==============================] - 1s 5ms/sample - loss: 0.0454 - acc: 0.9842 - val_loss: 2.4598 - val_acc: 0.7143\n",
      "Epoch 108/150\n",
      "190/190 [==============================] - 1s 6ms/sample - loss: 0.0337 - acc: 0.9947 - val_loss: 2.6979 - val_acc: 0.6825\n",
      "Epoch 109/150\n",
      "190/190 [==============================] - 1s 5ms/sample - loss: 0.0390 - acc: 0.9895 - val_loss: 2.0322 - val_acc: 0.7460\n",
      "Epoch 110/150\n",
      "190/190 [==============================] - 1s 6ms/sample - loss: 0.0493 - acc: 0.9789 - val_loss: 2.0405 - val_acc: 0.7302\n",
      "Epoch 111/150\n",
      "190/190 [==============================] - 1s 5ms/sample - loss: 0.0703 - acc: 0.9684 - val_loss: 3.0508 - val_acc: 0.5714\n",
      "Epoch 112/150\n",
      "190/190 [==============================] - 1s 5ms/sample - loss: 0.0531 - acc: 0.9789 - val_loss: 2.7234 - val_acc: 0.6032\n",
      "Epoch 113/150\n",
      "190/190 [==============================] - 1s 5ms/sample - loss: 0.0693 - acc: 0.9789 - val_loss: 1.7091 - val_acc: 0.7302\n",
      "Epoch 114/150\n",
      "190/190 [==============================] - 1s 6ms/sample - loss: 0.0680 - acc: 0.9737 - val_loss: 1.6733 - val_acc: 0.7302\n",
      "Epoch 115/150\n",
      "190/190 [==============================] - 1s 5ms/sample - loss: 0.0388 - acc: 0.9895 - val_loss: 2.4198 - val_acc: 0.6508\n",
      "Epoch 116/150\n",
      "190/190 [==============================] - 1s 5ms/sample - loss: 0.0710 - acc: 0.9632 - val_loss: 2.2206 - val_acc: 0.6984\n",
      "Epoch 117/150\n",
      "190/190 [==============================] - 1s 5ms/sample - loss: 0.0201 - acc: 1.0000 - val_loss: 1.7172 - val_acc: 0.7460\n",
      "Epoch 118/150\n",
      "190/190 [==============================] - 1s 5ms/sample - loss: 0.0521 - acc: 0.9842 - val_loss: 2.0434 - val_acc: 0.7302\n",
      "Epoch 119/150\n",
      "190/190 [==============================] - 1s 6ms/sample - loss: 0.0330 - acc: 0.9947 - val_loss: 2.7780 - val_acc: 0.6984\n",
      "Epoch 120/150\n",
      "190/190 [==============================] - 1s 5ms/sample - loss: 0.0482 - acc: 0.9842 - val_loss: 2.8602 - val_acc: 0.6984\n",
      "Epoch 121/150\n",
      "190/190 [==============================] - 1s 5ms/sample - loss: 0.0117 - acc: 1.0000 - val_loss: 2.6717 - val_acc: 0.6984\n",
      "Epoch 122/150\n",
      "190/190 [==============================] - 1s 5ms/sample - loss: 0.0229 - acc: 0.9895 - val_loss: 2.5546 - val_acc: 0.7143\n",
      "Epoch 123/150\n",
      "190/190 [==============================] - 1s 5ms/sample - loss: 0.0173 - acc: 0.9947 - val_loss: 2.6105 - val_acc: 0.7143\n",
      "Epoch 124/150\n",
      "190/190 [==============================] - 1s 5ms/sample - loss: 0.0382 - acc: 0.9842 - val_loss: 2.7568 - val_acc: 0.6984\n",
      "Epoch 125/150\n",
      "190/190 [==============================] - 1s 5ms/sample - loss: 0.0119 - acc: 1.0000 - val_loss: 2.7573 - val_acc: 0.7143\n",
      "Epoch 126/150\n",
      "190/190 [==============================] - 1s 5ms/sample - loss: 0.0127 - acc: 1.0000 - val_loss: 2.6947 - val_acc: 0.7302\n",
      "Epoch 127/150\n",
      "190/190 [==============================] - 1s 5ms/sample - loss: 0.0223 - acc: 0.9947 - val_loss: 3.0063 - val_acc: 0.7143\n",
      "Epoch 128/150\n",
      "190/190 [==============================] - 1s 5ms/sample - loss: 0.0102 - acc: 0.9947 - val_loss: 3.3375 - val_acc: 0.6984\n",
      "Epoch 129/150\n",
      "190/190 [==============================] - 1s 5ms/sample - loss: 0.0182 - acc: 0.9947 - val_loss: 3.2344 - val_acc: 0.6984\n",
      "Epoch 130/150\n",
      "190/190 [==============================] - 1s 5ms/sample - loss: 0.0123 - acc: 1.0000 - val_loss: 3.1414 - val_acc: 0.7143\n",
      "Epoch 131/150\n",
      "190/190 [==============================] - 1s 5ms/sample - loss: 0.0302 - acc: 0.9947 - val_loss: 3.2567 - val_acc: 0.7143\n",
      "Epoch 132/150\n",
      "190/190 [==============================] - 1s 5ms/sample - loss: 0.0335 - acc: 0.9842 - val_loss: 2.8876 - val_acc: 0.7460\n",
      "Epoch 133/150\n",
      "190/190 [==============================] - 1s 5ms/sample - loss: 0.0208 - acc: 0.9947 - val_loss: 2.5122 - val_acc: 0.7460\n",
      "Epoch 134/150\n",
      "190/190 [==============================] - 1s 5ms/sample - loss: 0.0198 - acc: 0.9947 - val_loss: 2.6933 - val_acc: 0.7460\n",
      "Epoch 135/150\n",
      "190/190 [==============================] - 1s 5ms/sample - loss: 0.0172 - acc: 0.9947 - val_loss: 3.2359 - val_acc: 0.7143\n",
      "Epoch 136/150\n",
      "190/190 [==============================] - 1s 6ms/sample - loss: 0.0107 - acc: 1.0000 - val_loss: 3.6572 - val_acc: 0.6825\n",
      "Epoch 137/150\n",
      "190/190 [==============================] - 1s 6ms/sample - loss: 0.0177 - acc: 0.9947 - val_loss: 3.5879 - val_acc: 0.6984\n",
      "Epoch 138/150\n",
      "190/190 [==============================] - 1s 5ms/sample - loss: 0.0224 - acc: 0.9947 - val_loss: 3.0753 - val_acc: 0.7143\n",
      "Epoch 139/150\n",
      "190/190 [==============================] - 1s 6ms/sample - loss: 0.0058 - acc: 1.0000 - val_loss: 2.7743 - val_acc: 0.7302\n",
      "Epoch 140/150\n",
      "190/190 [==============================] - 1s 5ms/sample - loss: 0.0264 - acc: 0.9895 - val_loss: 2.5157 - val_acc: 0.7460\n",
      "Epoch 141/150\n",
      "190/190 [==============================] - 1s 5ms/sample - loss: 0.0614 - acc: 0.9842 - val_loss: 2.9783 - val_acc: 0.7302\n",
      "Epoch 142/150\n",
      "190/190 [==============================] - 1s 5ms/sample - loss: 0.0075 - acc: 1.0000 - val_loss: 2.9833 - val_acc: 0.7302\n",
      "Epoch 143/150\n",
      "190/190 [==============================] - 1s 5ms/sample - loss: 0.0187 - acc: 0.9947 - val_loss: 3.3089 - val_acc: 0.7143\n",
      "Epoch 144/150\n",
      "190/190 [==============================] - 1s 6ms/sample - loss: 0.0338 - acc: 0.9842 - val_loss: 3.2177 - val_acc: 0.7143\n",
      "Epoch 145/150\n",
      "190/190 [==============================] - 1s 7ms/sample - loss: 0.0106 - acc: 0.9947 - val_loss: 3.1493 - val_acc: 0.7143\n",
      "Epoch 146/150\n",
      "190/190 [==============================] - 1s 6ms/sample - loss: 0.0473 - acc: 0.9895 - val_loss: 2.8865 - val_acc: 0.7302\n",
      "Epoch 147/150\n",
      "190/190 [==============================] - 1s 6ms/sample - loss: 0.0276 - acc: 0.9895 - val_loss: 3.2680 - val_acc: 0.6984\n",
      "Epoch 148/150\n",
      "190/190 [==============================] - 1s 5ms/sample - loss: 0.0074 - acc: 1.0000 - val_loss: 3.6057 - val_acc: 0.6825\n",
      "Epoch 149/150\n",
      "190/190 [==============================] - 1s 6ms/sample - loss: 0.0079 - acc: 0.9947 - val_loss: 3.6358 - val_acc: 0.6825\n",
      "Epoch 150/150\n",
      "190/190 [==============================] - 1s 6ms/sample - loss: 0.0202 - acc: 0.9895 - val_loss: 3.3063 - val_acc: 0.7143\n"
     ]
    },
    {
     "data": {
      "text/plain": [
       "<tensorflow.python.keras.callbacks.History at 0x1d5e7edd548>"
      ]
     },
     "execution_count": 24,
     "metadata": {},
     "output_type": "execute_result"
    }
   ],
   "source": [
    "model.fit(x_train,\n",
    "         y_train,\n",
    "         batch_size=128,\n",
    "         epochs=150,\n",
    "         validation_data=(x_valid, y_valid),)\n"
   ]
  },
  {
   "cell_type": "code",
   "execution_count": 25,
   "metadata": {},
   "outputs": [
    {
     "ename": "ImportError",
     "evalue": "Failed to import `pydot`. Please install `pydot`. For example with `pip install pydot`.",
     "output_type": "error",
     "traceback": [
      "\u001b[1;31m---------------------------------------------------------------------------\u001b[0m",
      "\u001b[1;31mImportError\u001b[0m                               Traceback (most recent call last)",
      "\u001b[1;32m<ipython-input-25-ff42bac048db>\u001b[0m in \u001b[0;36m<module>\u001b[1;34m\u001b[0m\n\u001b[0;32m      1\u001b[0m \u001b[1;32mfrom\u001b[0m \u001b[0mIPython\u001b[0m\u001b[1;33m.\u001b[0m\u001b[0mdisplay\u001b[0m \u001b[1;32mimport\u001b[0m \u001b[0mSVG\u001b[0m\u001b[1;33m\u001b[0m\u001b[1;33m\u001b[0m\u001b[0m\n\u001b[0;32m      2\u001b[0m \u001b[1;32mfrom\u001b[0m \u001b[0mkeras\u001b[0m\u001b[1;33m.\u001b[0m\u001b[0mutils\u001b[0m\u001b[1;33m.\u001b[0m\u001b[0mvis_utils\u001b[0m \u001b[1;32mimport\u001b[0m \u001b[0mmodel_to_dot\u001b[0m\u001b[1;33m\u001b[0m\u001b[1;33m\u001b[0m\u001b[0m\n\u001b[1;32m----> 3\u001b[1;33m \u001b[0mSVG\u001b[0m\u001b[1;33m(\u001b[0m\u001b[0mmodel_to_dot\u001b[0m\u001b[1;33m(\u001b[0m\u001b[0mmodel\u001b[0m\u001b[1;33m,\u001b[0m\u001b[0mshow_shapes\u001b[0m \u001b[1;33m=\u001b[0m \u001b[1;32mTrue\u001b[0m\u001b[1;33m)\u001b[0m\u001b[1;33m.\u001b[0m\u001b[0mcreate\u001b[0m\u001b[1;33m(\u001b[0m\u001b[0mprog\u001b[0m\u001b[1;33m=\u001b[0m\u001b[1;34m'dot'\u001b[0m\u001b[1;33m,\u001b[0m \u001b[0mformat\u001b[0m\u001b[1;33m=\u001b[0m\u001b[1;34m'svg'\u001b[0m\u001b[1;33m)\u001b[0m\u001b[1;33m)\u001b[0m\u001b[1;33m\u001b[0m\u001b[1;33m\u001b[0m\u001b[0m\n\u001b[0m",
      "\u001b[1;32mC:\\ProgramData\\Anaconda3\\lib\\site-packages\\keras\\utils\\vis_utils.py\u001b[0m in \u001b[0;36mmodel_to_dot\u001b[1;34m(model, show_shapes, show_layer_names, rankdir, expand_nested, dpi, subgraph)\u001b[0m\n\u001b[0;32m     77\u001b[0m     \u001b[1;32mfrom\u001b[0m \u001b[1;33m.\u001b[0m\u001b[1;33m.\u001b[0m\u001b[0mmodels\u001b[0m \u001b[1;32mimport\u001b[0m \u001b[0mSequential\u001b[0m\u001b[1;33m\u001b[0m\u001b[1;33m\u001b[0m\u001b[0m\n\u001b[0;32m     78\u001b[0m \u001b[1;33m\u001b[0m\u001b[0m\n\u001b[1;32m---> 79\u001b[1;33m     \u001b[0m_check_pydot\u001b[0m\u001b[1;33m(\u001b[0m\u001b[1;33m)\u001b[0m\u001b[1;33m\u001b[0m\u001b[1;33m\u001b[0m\u001b[0m\n\u001b[0m\u001b[0;32m     80\u001b[0m     \u001b[1;32mif\u001b[0m \u001b[0msubgraph\u001b[0m\u001b[1;33m:\u001b[0m\u001b[1;33m\u001b[0m\u001b[1;33m\u001b[0m\u001b[0m\n\u001b[0;32m     81\u001b[0m         \u001b[0mdot\u001b[0m \u001b[1;33m=\u001b[0m \u001b[0mpydot\u001b[0m\u001b[1;33m.\u001b[0m\u001b[0mCluster\u001b[0m\u001b[1;33m(\u001b[0m\u001b[0mstyle\u001b[0m\u001b[1;33m=\u001b[0m\u001b[1;34m'dashed'\u001b[0m\u001b[1;33m,\u001b[0m \u001b[0mgraph_name\u001b[0m\u001b[1;33m=\u001b[0m\u001b[0mmodel\u001b[0m\u001b[1;33m.\u001b[0m\u001b[0mname\u001b[0m\u001b[1;33m)\u001b[0m\u001b[1;33m\u001b[0m\u001b[1;33m\u001b[0m\u001b[0m\n",
      "\u001b[1;32mC:\\ProgramData\\Anaconda3\\lib\\site-packages\\keras\\utils\\vis_utils.py\u001b[0m in \u001b[0;36m_check_pydot\u001b[1;34m()\u001b[0m\n\u001b[0;32m     20\u001b[0m     \u001b[1;32mif\u001b[0m \u001b[0mpydot\u001b[0m \u001b[1;32mis\u001b[0m \u001b[1;32mNone\u001b[0m\u001b[1;33m:\u001b[0m\u001b[1;33m\u001b[0m\u001b[1;33m\u001b[0m\u001b[0m\n\u001b[0;32m     21\u001b[0m         raise ImportError(\n\u001b[1;32m---> 22\u001b[1;33m             \u001b[1;34m'Failed to import `pydot`. '\u001b[0m\u001b[1;33m\u001b[0m\u001b[1;33m\u001b[0m\u001b[0m\n\u001b[0m\u001b[0;32m     23\u001b[0m             \u001b[1;34m'Please install `pydot`. '\u001b[0m\u001b[1;33m\u001b[0m\u001b[1;33m\u001b[0m\u001b[0m\n\u001b[0;32m     24\u001b[0m             'For example with `pip install pydot`.')\n",
      "\u001b[1;31mImportError\u001b[0m: Failed to import `pydot`. Please install `pydot`. For example with `pip install pydot`."
     ]
    }
   ],
   "source": [
    "from IPython.display import SVG\n",
    "from keras.utils.vis_utils import model_to_dot\n",
    "SVG(model_to_dot(model,show_shapes = True).create(prog='dot', format='svg'))"
   ]
  },
  {
   "cell_type": "code",
   "execution_count": 54,
   "metadata": {},
   "outputs": [
    {
     "name": "stdout",
     "output_type": "stream",
     "text": [
      "\n",
      " Test accuracy: 0.71428573\n"
     ]
    },
    {
     "ename": "ValueError",
     "evalue": "Found input variables with inconsistent numbers of samples: [63, 2]",
     "output_type": "error",
     "traceback": [
      "\u001b[1;31m---------------------------------------------------------------------------\u001b[0m",
      "\u001b[1;31mValueError\u001b[0m                                Traceback (most recent call last)",
      "\u001b[1;32m<ipython-input-54-6d35bf51b9de>\u001b[0m in \u001b[0;36m<module>\u001b[1;34m\u001b[0m\n\u001b[0;32m      8\u001b[0m \u001b[1;33m\u001b[0m\u001b[0m\n\u001b[0;32m      9\u001b[0m \u001b[1;33m\u001b[0m\u001b[0m\n\u001b[1;32m---> 10\u001b[1;33m \u001b[0mconfusion_mtx\u001b[0m \u001b[1;33m=\u001b[0m \u001b[0mconfusion_matrix\u001b[0m\u001b[1;33m(\u001b[0m\u001b[0my_valid\u001b[0m\u001b[1;33m,\u001b[0m \u001b[0mscore\u001b[0m\u001b[1;33m)\u001b[0m\u001b[1;33m\u001b[0m\u001b[1;33m\u001b[0m\u001b[0m\n\u001b[0m\u001b[0;32m     11\u001b[0m \u001b[0mcm\u001b[0m \u001b[1;33m=\u001b[0m \u001b[0mplot_confusion_matrix\u001b[0m\u001b[1;33m(\u001b[0m\u001b[0mconfusion_mtx\u001b[0m\u001b[1;33m,\u001b[0m \u001b[0mclasses\u001b[0m \u001b[1;33m=\u001b[0m \u001b[0mlist\u001b[0m\u001b[1;33m(\u001b[0m\u001b[0mlabels\u001b[0m\u001b[1;33m.\u001b[0m\u001b[0mitems\u001b[0m\u001b[1;33m(\u001b[0m\u001b[1;33m)\u001b[0m\u001b[1;33m)\u001b[0m\u001b[1;33m,\u001b[0m \u001b[0mnormalize\u001b[0m\u001b[1;33m=\u001b[0m\u001b[1;32mFalse\u001b[0m\u001b[1;33m)\u001b[0m\u001b[1;33m\u001b[0m\u001b[1;33m\u001b[0m\u001b[0m\n",
      "\u001b[1;32mC:\\ProgramData\\Anaconda3\\lib\\site-packages\\sklearn\\metrics\\classification.py\u001b[0m in \u001b[0;36mconfusion_matrix\u001b[1;34m(y_true, y_pred, labels, sample_weight)\u001b[0m\n\u001b[0;32m    251\u001b[0m \u001b[1;33m\u001b[0m\u001b[0m\n\u001b[0;32m    252\u001b[0m     \"\"\"\n\u001b[1;32m--> 253\u001b[1;33m     \u001b[0my_type\u001b[0m\u001b[1;33m,\u001b[0m \u001b[0my_true\u001b[0m\u001b[1;33m,\u001b[0m \u001b[0my_pred\u001b[0m \u001b[1;33m=\u001b[0m \u001b[0m_check_targets\u001b[0m\u001b[1;33m(\u001b[0m\u001b[0my_true\u001b[0m\u001b[1;33m,\u001b[0m \u001b[0my_pred\u001b[0m\u001b[1;33m)\u001b[0m\u001b[1;33m\u001b[0m\u001b[1;33m\u001b[0m\u001b[0m\n\u001b[0m\u001b[0;32m    254\u001b[0m     \u001b[1;32mif\u001b[0m \u001b[0my_type\u001b[0m \u001b[1;32mnot\u001b[0m \u001b[1;32min\u001b[0m \u001b[1;33m(\u001b[0m\u001b[1;34m\"binary\"\u001b[0m\u001b[1;33m,\u001b[0m \u001b[1;34m\"multiclass\"\u001b[0m\u001b[1;33m)\u001b[0m\u001b[1;33m:\u001b[0m\u001b[1;33m\u001b[0m\u001b[1;33m\u001b[0m\u001b[0m\n\u001b[0;32m    255\u001b[0m         \u001b[1;32mraise\u001b[0m \u001b[0mValueError\u001b[0m\u001b[1;33m(\u001b[0m\u001b[1;34m\"%s is not supported\"\u001b[0m \u001b[1;33m%\u001b[0m \u001b[0my_type\u001b[0m\u001b[1;33m)\u001b[0m\u001b[1;33m\u001b[0m\u001b[1;33m\u001b[0m\u001b[0m\n",
      "\u001b[1;32mC:\\ProgramData\\Anaconda3\\lib\\site-packages\\sklearn\\metrics\\classification.py\u001b[0m in \u001b[0;36m_check_targets\u001b[1;34m(y_true, y_pred)\u001b[0m\n\u001b[0;32m     69\u001b[0m     \u001b[0my_pred\u001b[0m \u001b[1;33m:\u001b[0m \u001b[0marray\u001b[0m \u001b[1;32mor\u001b[0m \u001b[0mindicator\u001b[0m \u001b[0mmatrix\u001b[0m\u001b[1;33m\u001b[0m\u001b[1;33m\u001b[0m\u001b[0m\n\u001b[0;32m     70\u001b[0m     \"\"\"\n\u001b[1;32m---> 71\u001b[1;33m     \u001b[0mcheck_consistent_length\u001b[0m\u001b[1;33m(\u001b[0m\u001b[0my_true\u001b[0m\u001b[1;33m,\u001b[0m \u001b[0my_pred\u001b[0m\u001b[1;33m)\u001b[0m\u001b[1;33m\u001b[0m\u001b[1;33m\u001b[0m\u001b[0m\n\u001b[0m\u001b[0;32m     72\u001b[0m     \u001b[0mtype_true\u001b[0m \u001b[1;33m=\u001b[0m \u001b[0mtype_of_target\u001b[0m\u001b[1;33m(\u001b[0m\u001b[0my_true\u001b[0m\u001b[1;33m)\u001b[0m\u001b[1;33m\u001b[0m\u001b[1;33m\u001b[0m\u001b[0m\n\u001b[0;32m     73\u001b[0m     \u001b[0mtype_pred\u001b[0m \u001b[1;33m=\u001b[0m \u001b[0mtype_of_target\u001b[0m\u001b[1;33m(\u001b[0m\u001b[0my_pred\u001b[0m\u001b[1;33m)\u001b[0m\u001b[1;33m\u001b[0m\u001b[1;33m\u001b[0m\u001b[0m\n",
      "\u001b[1;32mC:\\ProgramData\\Anaconda3\\lib\\site-packages\\sklearn\\utils\\validation.py\u001b[0m in \u001b[0;36mcheck_consistent_length\u001b[1;34m(*arrays)\u001b[0m\n\u001b[0;32m    203\u001b[0m     \u001b[1;32mif\u001b[0m \u001b[0mlen\u001b[0m\u001b[1;33m(\u001b[0m\u001b[0muniques\u001b[0m\u001b[1;33m)\u001b[0m \u001b[1;33m>\u001b[0m \u001b[1;36m1\u001b[0m\u001b[1;33m:\u001b[0m\u001b[1;33m\u001b[0m\u001b[1;33m\u001b[0m\u001b[0m\n\u001b[0;32m    204\u001b[0m         raise ValueError(\"Found input variables with inconsistent numbers of\"\n\u001b[1;32m--> 205\u001b[1;33m                          \" samples: %r\" % [int(l) for l in lengths])\n\u001b[0m\u001b[0;32m    206\u001b[0m \u001b[1;33m\u001b[0m\u001b[0m\n\u001b[0;32m    207\u001b[0m \u001b[1;33m\u001b[0m\u001b[0m\n",
      "\u001b[1;31mValueError\u001b[0m: Found input variables with inconsistent numbers of samples: [63, 2]"
     ]
    }
   ],
   "source": [
    "# Evaluate the model on test set\n",
    "from sklearn.metrics import accuracy_score,confusion_matrix\n",
    "\n",
    "score = model.evaluate(x_test, y_test, verbose=0)\n",
    "\n",
    "# Print test accuracy\n",
    "print('\\n', 'Test accuracy:', score[1])\n",
    "\n",
    "\n",
    "confusion_mtx = confusion_matrix(y_valid, score) \n",
    "cm = plot_confusion_matrix(confusion_mtx, classes = list(labels.items()), normalize=False)"
   ]
  },
  {
   "cell_type": "code",
   "execution_count": 51,
   "metadata": {},
   "outputs": [
    {
     "ename": "NameError",
     "evalue": "name 'accuracy_score' is not defined",
     "output_type": "error",
     "traceback": [
      "\u001b[1;31m---------------------------------------------------------------------------\u001b[0m",
      "\u001b[1;31mNameError\u001b[0m                                 Traceback (most recent call last)",
      "\u001b[1;32m<ipython-input-51-feaa5eb04168>\u001b[0m in \u001b[0;36m<module>\u001b[1;34m\u001b[0m\n\u001b[0;32m      3\u001b[0m \u001b[0mpredictions\u001b[0m \u001b[1;33m=\u001b[0m \u001b[1;33m[\u001b[0m\u001b[1;36m1\u001b[0m \u001b[1;32mif\u001b[0m \u001b[0mx\u001b[0m\u001b[1;33m>\u001b[0m\u001b[1;36m0.5\u001b[0m \u001b[1;32melse\u001b[0m \u001b[1;36m0\u001b[0m \u001b[1;32mfor\u001b[0m \u001b[0mx\u001b[0m \u001b[1;32min\u001b[0m \u001b[0mpredictions\u001b[0m\u001b[1;33m]\u001b[0m\u001b[1;33m\u001b[0m\u001b[1;33m\u001b[0m\u001b[0m\n\u001b[0;32m      4\u001b[0m \u001b[1;33m\u001b[0m\u001b[0m\n\u001b[1;32m----> 5\u001b[1;33m \u001b[0maccuracy\u001b[0m \u001b[1;33m=\u001b[0m \u001b[0maccuracy_score\u001b[0m\u001b[1;33m(\u001b[0m\u001b[0my_val\u001b[0m\u001b[1;33m,\u001b[0m \u001b[0mpredictions\u001b[0m\u001b[1;33m)\u001b[0m\u001b[1;33m\u001b[0m\u001b[1;33m\u001b[0m\u001b[0m\n\u001b[0m\u001b[0;32m      6\u001b[0m \u001b[0mprint\u001b[0m\u001b[1;33m(\u001b[0m\u001b[1;34m'Val Accuracy = %.2f'\u001b[0m \u001b[1;33m%\u001b[0m \u001b[0maccuracy\u001b[0m\u001b[1;33m)\u001b[0m\u001b[1;33m\u001b[0m\u001b[1;33m\u001b[0m\u001b[0m\n\u001b[0;32m      7\u001b[0m \u001b[1;33m\u001b[0m\u001b[0m\n",
      "\u001b[1;31mNameError\u001b[0m: name 'accuracy_score' is not defined"
     ]
    }
   ],
   "source": [
    "# validate on val set\n",
    "predictions = model.predict(x_test)\n",
    "predictions = [1 if x>0.5 else 0 for x in predictions]\n",
    "\n",
    "accuracy = accuracy_score(y_val, predictions)\n",
    "print('Val Accuracy = %.2f' % accuracy)\n"
   ]
  },
  {
   "cell_type": "code",
   "execution_count": 27,
   "metadata": {},
   "outputs": [],
   "source": [
    "labels =[\"Yes\",  # index 0\n",
    "        \"No\",      # index 1\n",
    "        ]"
   ]
  },
  {
   "cell_type": "code",
   "execution_count": 28,
   "metadata": {},
   "outputs": [
    {
     "data": {
      "image/png": "[encoded data removed]",
      "text/plain": [
       "<Figure size 1440x648 with 15 Axes>"
      ]
     },
     "metadata": {},
     "output_type": "display_data"
    }
   ],
   "source": [
    "y_hat = model.predict(x_test)\n",
    "\n",
    "# Plot a random sample of 10 test images, their predicted labels and ground truth\n",
    "figure = plt.figure(figsize=(20, 9))\n",
    "for i, index in enumerate(np.random.choice(x_test.shape[0], size=15, replace=False)):\n",
    "    ax = figure.add_subplot(3, 5, i + 1, xticks=[], yticks=[])\n",
    "    # Display each image\n",
    "    ax.imshow(np.squeeze(x_test[index]))\n",
    "    predict_index = np.argmax(y_hat[index])\n",
    "    true_index = np.argmax(y_test[index])\n",
    "    # Set the title for each image\n",
    "    ax.set_title(\"{} ({})\".format(labels[predict_index], \n",
    "                                  labels[true_index]),\n",
    "                                  color=(\"green\" if predict_index == true_index else \"red\"))\n",
    "plt.show()"
   ]
  },
  {
   "cell_type": "code",
   "execution_count": null,
   "metadata": {},
   "outputs": [],
   "source": []
  }
 ],
 "metadata": {
  "kernelspec": {
   "display_name": "Python 3",
   "language": "python",
   "name": "python3"
  },
  "language_info": {
   "codemirror_mode": {
    "name": "ipython",
    "version": 3
   },
   "file_extension": ".py",
   "mimetype": "text/x-python",
   "name": "python",
   "nbconvert_exporter": "python",
   "pygments_lexer": "ipython3",
   "version": "3.7.4"
  }
 },
 "nbformat": 4,
 "nbformat_minor": 2
}
